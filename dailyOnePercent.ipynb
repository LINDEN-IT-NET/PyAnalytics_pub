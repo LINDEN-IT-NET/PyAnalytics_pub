{
 "cells": [
  {
   "cell_type": "code",
   "execution_count": 73,
   "id": "b01ba513-4a52-4d6b-9b45-7ad9f2d4ff13",
   "metadata": {},
   "outputs": [],
   "source": [
    "daystart = 100\n",
    "percent = 1\n",
    "dayend = 101\n",
    "tab = '\\t'"
   ]
  },
  {
   "cell_type": "code",
   "execution_count": 74,
   "id": "271a7a60-fa22-4a30-914d-20287d8d1b7c",
   "metadata": {},
   "outputs": [
    {
     "name": "stdout",
     "output_type": "stream",
     "text": [
      "day-number\tdaystart\tpercent\t\tdayend\n",
      "230\t\t995.95\t\t9.96\t\t1005.91\n"
     ]
    }
   ],
   "source": [
    "print(f'day-number{tab}daystart{tab}percent{tab}{tab}dayend')\n",
    "for i in range(500):\n",
    "    #print(f'{i}{tab}{tab}{daystart:.2f}{tab}{tab}{percent:.2f}{tab}{tab}{dayend:.2f}')\n",
    "    daystart = dayend\n",
    "    percent = dayend*0.01\n",
    "    dayend = daystart+percent\n",
    "    if dayend > 1000 and dayend < 1010:\n",
    "        print(f'{i}{tab}{tab}{daystart:.2f}{tab}{tab}{percent:.2f}{tab}{tab}{dayend:.2f}')\n",
    "        \n",
    "    \n",
    "    "
   ]
  },
  {
   "cell_type": "code",
   "execution_count": null,
   "id": "1317de4f-cdb5-40ea-87e8-85fb9521debe",
   "metadata": {},
   "outputs": [],
   "source": []
  },
  {
   "cell_type": "code",
   "execution_count": null,
   "id": "0887d99d-ab5e-46dc-8466-4f58d5975599",
   "metadata": {},
   "outputs": [],
   "source": []
  }
 ],
 "metadata": {
  "kernelspec": {
   "display_name": "Python 3",
   "language": "python",
   "name": "python3"
  },
  "language_info": {
   "codemirror_mode": {
    "name": "ipython",
    "version": 3
   },
   "file_extension": ".py",
   "mimetype": "text/x-python",
   "name": "python",
   "nbconvert_exporter": "python",
   "pygments_lexer": "ipython3",
   "version": "3.8.8"
  }
 },
 "nbformat": 4,
 "nbformat_minor": 5
}
